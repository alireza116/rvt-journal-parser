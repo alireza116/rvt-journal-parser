{
 "cells": [
  {
   "cell_type": "code",
   "execution_count": 5,
   "metadata": {},
   "outputs": [],
   "source": [
    "import re\n",
    "import matplotlib.pyplot as plt\n",
    "import seaborn as sns\n",
    "sns.set()\n",
    "from collections import Counter\n",
    "import random\n",
    "from pprint import pprint\n",
    "import pandas as pd\n",
    "from dateutil import parser\n",
    "import os\n",
    "import json"
   ]
  },
  {
   "cell_type": "code",
   "execution_count": 6,
   "metadata": {},
   "outputs": [],
   "source": [
    "def parseJournal(path):\n",
    "    textLines = []\n",
    "    with open(path,\"r\",encoding=\"UTF-8\",errors=\"ignore\") as txtFile:\n",
    "        for line in txtFile:\n",
    "            line= line.strip()\n",
    "            textLines.append(line)\n",
    "    commands = []\n",
    "    fileName = \"none\"\n",
    "    username = \"none\"\n",
    "    for i, line in enumerate(textLines):\n",
    "    #     matches = re.findall(\"(?<=Jrn.)(.[a-zA-Z]+)\",line)\n",
    "        line = re.sub(\"\\s+\",\" \",line)\n",
    "        matches = re.search(\"^Jrn\",line)\n",
    "    #     if len(matches) > 0:\n",
    "        if matches:\n",
    "            jrnName = re.findall(\"(?<=Jrn.)(.[a-zA-Z]+)\",line)[0]\n",
    "            commIndex = 0\n",
    "            time = textLines[i-1]\n",
    "            time = time.replace(\"'H \",\"\")\n",
    "            time = time.replace(\"'E \",\"\")\n",
    "            time = re.sub(\";\\s+\\d+:<\",\"\",time)\n",
    "            #GETTING COMMANDS\n",
    "            \n",
    "            command = line\n",
    "            while re.search(\"_$\",textLines[i+commIndex]):\n",
    "                command += textLines[i+commIndex+1].replace(\"_\",\"\")\n",
    "                commIndex +=1\n",
    "            if jrnName == \"Command\":\n",
    "                isCommand = True\n",
    "                commandDetails = re.findall(\"[a-zA-Z\\s\\(\\)\\-\\.]+\\s,\\s[a-zA-Z\\s_]+|\\s,\\s[a-zA-Z\\s_]+\",command)\n",
    "                commandDetails = commandDetails[0].split(\" , \")\n",
    "\n",
    "                if len(commandDetails) == 2:\n",
    "                    commandDetails = {\n",
    "                        \"id\":commandDetails[1],\n",
    "                        \"desc\":commandDetails[0]\n",
    "                    }\n",
    "                else:\n",
    "                    commandDetails = {\n",
    "                        \"id\":commandDetails[0],\n",
    "                        \"desc\":\"none\"\n",
    "                    }\n",
    "                if len(commandDetails) ==0:\n",
    "                    print(command)\n",
    "            else:\n",
    "                isCommand = False\n",
    "                commandDetails = {\n",
    "                        \"id\":\"none\",\n",
    "                        \"desc\":\"none\"\n",
    "                    }\n",
    "            details = re.findall(\"(?<=\\\")([a-zA-Z\\s]+)(?=\\\")\",line)\n",
    "            if len(details)==0:\n",
    "                details = [\"none\"]\n",
    "            isWarning = False\n",
    "            if jrnName == \"Data\" and \"Mini warning dialog\" in details:\n",
    "                isWarning = True\n",
    "                warrIndex = -2\n",
    "                while re.search(\"^'\\s1:<\",textLines[i+warrIndex]):\n",
    "                    warrIndex -= 1\n",
    "                warningMessages = [textLines[i+warrIndex].replace(\"'\",\"\").strip()]\n",
    "            elif jrnName == \"Data\" and \"Error dialog\" in details:\n",
    "                isWarning = True\n",
    "                warrIndex = -2\n",
    "                warningMessages = []\n",
    "                while re.search(\"^'\\s1:<\",textLines[i+warrIndex]):\n",
    "                    if \"summary\" in textLines[i+warrIndex]:\n",
    "                        break\n",
    "                    if \"Error\" in textLines[i+warrIndex]:\n",
    "                        warningMessage = textLines[i+warrIndex].replace(\"' 1:< Error: \",\"\").replace(\"' 1:< Error\",\"\").strip()\n",
    "                        warningMessage = re.sub(\"\\s-\\s\\d\\stimes\",\"\",warningMessage)\n",
    "                        warningMessages.append(warningMessage)\n",
    "                    warrIndex -= 1\n",
    "            else:\n",
    "                 warningMessages = [\"none\"]\n",
    "            if jrnName == \"Directive\" and details[0] ==\"Username\":\n",
    "                username = re.findall('(?<=\")[a-zA-Z0-9]+',command)[1]\n",
    "            if jrnName == \"Data\" and \"File Name\" in details:\n",
    "                dets = re.findall('[a-zA-Z\\s\\:\\\\0-9-\\#\\&\\,\\.]+\\.rvt',command)\n",
    "                if len(dets)>0:\n",
    "                    fileName = dets[0]\n",
    "            commands.append({\"time\":time,\"entry\":command,\"jrnName\":jrnName,\"details\":details[0],\"commandID\":commandDetails[\"id\"],\"commandDesc\":commandDetails[\"desc\"],\"warningMessage\":tuple(warningMessages),\"isWarning\":isWarning,\"isCommand\":isCommand,\"fileName\":fileName,\"journalPath\":path})\n",
    "    df = pd.DataFrame.from_records(commands)\n",
    "    df[\"username\"] = username\n",
    "    for command in commands:\n",
    "        command[\"username\"]= username\n",
    "    return (df,commands)"
   ]
  },
  {
   "cell_type": "code",
   "execution_count": 7,
   "metadata": {},
   "outputs": [],
   "source": [
    "#to get a journal file dataframe\n",
    "# df = parseJournal(\"journal.0029.txt\"[0]"
   ]
  },
  {
   "cell_type": "code",
   "execution_count": 8,
   "metadata": {},
   "outputs": [],
   "source": [
    "#to get a journal file list of dicts\n",
    "# df = parseJournal(\"journal.0029.txt\"[1]"
   ]
  },
  {
   "cell_type": "code",
   "execution_count": 10,
   "metadata": {},
   "outputs": [],
   "source": [
    "#put journal files in this folder\n",
    "root_path = \"./journalFiles/\"\n",
    "dfs = []\n",
    "allCommands = []\n",
    "for file in os.listdir(root_path):\n",
    "    journalData = parseJournal(root_path+file)\n",
    "    dfs.append(journalData[0])\n",
    "    allCommands += journalData[1]\n",
    "allDf = pd.concat(dfs)"
   ]
  },
  {
   "cell_type": "code",
   "execution_count": null,
   "metadata": {},
   "outputs": [],
   "source": []
  },
  {
   "cell_type": "code",
   "execution_count": null,
   "metadata": {},
   "outputs": [],
   "source": [
    "commands = df[df['isCommand']]\n",
    "timeDiffs = []\n",
    "for jp in commands[\"journalPath\"].unique():\n",
    "    jpSelect = commands[commands[\"journalPath\"]==jp]\n",
    "    for i,row in enumerate(jpSelect.iterrows()):\n",
    "        if i == 0:\n",
    "            timeDiffs.append(0)\n",
    "        else:\n",
    "            timeNow = row[1][\"datetime\"]\n",
    "            timePrev = jpSelect.iloc[i-1][\"datetime\"]\n",
    "            timeDif = timeNow - timePrev\n",
    "            timeDiffs.append(timeDif.seconds)"
   ]
  },
  {
   "cell_type": "code",
   "execution_count": null,
   "metadata": {},
   "outputs": [],
   "source": []
  },
  {
   "cell_type": "code",
   "execution_count": null,
   "metadata": {},
   "outputs": [],
   "source": []
  },
  {
   "cell_type": "code",
   "execution_count": null,
   "metadata": {
    "scrolled": false
   },
   "outputs": [],
   "source": []
  },
  {
   "cell_type": "code",
   "execution_count": null,
   "metadata": {},
   "outputs": [],
   "source": []
  },
  {
   "cell_type": "code",
   "execution_count": null,
   "metadata": {
    "scrolled": true
   },
   "outputs": [],
   "source": []
  },
  {
   "cell_type": "code",
   "execution_count": null,
   "metadata": {},
   "outputs": [],
   "source": []
  },
  {
   "cell_type": "code",
   "execution_count": null,
   "metadata": {},
   "outputs": [],
   "source": []
  },
  {
   "cell_type": "code",
   "execution_count": 561,
   "metadata": {},
   "outputs": [],
   "source": []
  }
 ],
 "metadata": {
  "kernelspec": {
   "display_name": "Python 3",
   "language": "python",
   "name": "python3"
  },
  "language_info": {
   "codemirror_mode": {
    "name": "ipython",
    "version": 3
   },
   "file_extension": ".py",
   "mimetype": "text/x-python",
   "name": "python",
   "nbconvert_exporter": "python",
   "pygments_lexer": "ipython3",
   "version": "3.7.3"
  }
 },
 "nbformat": 4,
 "nbformat_minor": 2
}
